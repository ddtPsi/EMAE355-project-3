{
 "cells": [
  {
   "cell_type": "code",
   "execution_count": 1,
   "metadata": {},
   "outputs": [],
   "source": [
    "import numpy as np\n",
    "import matplotlib.pyplot as plt\n",
    "from scipy import optimize as op\n",
    "import scipy.integrate as integ\n",
    "from CoolProp import AbstractState\n",
    "from CoolProp.CoolProp import PhaseSI, PropsSI, get_global_param_string\n",
    "import CoolProp.CoolProp as CoolProp\n",
    "from CoolProp.HumidAirProp import HAPropsSI"
   ]
  },
  {
   "cell_type": "code",
   "execution_count": 2,
   "metadata": {},
   "outputs": [],
   "source": [
    "#initial condition: Temp, diameter, mass flow rate\n",
    "Tempi=42.2\n",
    "d=0.06\n",
    "dotm=7.04\n",
    "Area=(np.pi*d**2)/4"
   ]
  },
  {
   "cell_type": "code",
   "execution_count": null,
   "metadata": {},
   "outputs": [],
   "source": []
  },
  {
   "cell_type": "code",
   "execution_count": 3,
   "metadata": {},
   "outputs": [],
   "source": [
    "def Pdown(L):\n",
    "    rho=811\n",
    "    g=9.81\n",
    "    deltaP=rho*L*g/(10**6)\n",
    "    uavg=4.014\n",
    "    f=0.02807\n",
    "    ML=(0.5*(uavg**2)*f*rho*(L/d))/1000000\n",
    "    Pdown=(25+deltaP-ML)*1000000\n",
    "    return Pdown"
   ]
  },
  {
   "cell_type": "code",
   "execution_count": 4,
   "metadata": {},
   "outputs": [],
   "source": [
    "def Pup(L):\n",
    "    rho=351\n",
    "    g=9.81\n",
    "    deltaP=rho*L*g/(10**6)\n",
    "    uavg=5.01\n",
    "    f=0.02806\n",
    "    ML=(0.5*(uavg**2)*f*rho*(L/d))/1000000\n",
    "    Pup=(37.6+deltaP-ML)*100000    \n",
    "    return Pup"
   ]
  },
  {
   "cell_type": "code",
   "execution_count": 5,
   "metadata": {},
   "outputs": [],
   "source": [
    "def rho(Temp,P):\n",
    "    rho=PropsSI(\"D\", \"P\", P, \"T\",Temp, \"CO2\")\n",
    "    return rho"
   ]
  },
  {
   "cell_type": "code",
   "execution_count": 7,
   "metadata": {},
   "outputs": [],
   "source": [
    "def Cv(Temp,P):\n",
    "    C=PropsSI(\"C\", \"P\", P, \"T\",Temp, \"CO2\")\n",
    "    return C"
   ]
  },
  {
   "cell_type": "code",
   "execution_count": 8,
   "metadata": {},
   "outputs": [],
   "source": [
    "def k(Temp,P):\n",
    "    k=PropsSI(\"L\", \"P\", P, \"T\",Temp, \"CO2\")\n",
    "    return k"
   ]
  },
  {
   "cell_type": "code",
   "execution_count": 9,
   "metadata": {},
   "outputs": [],
   "source": [
    "def kv(Temp,P):\n",
    "    C=PropsSI(\"V\", \"P\", P, \"T\",Temp, \"CO2\")\n",
    "    return C"
   ]
  },
  {
   "cell_type": "code",
   "execution_count": 10,
   "metadata": {},
   "outputs": [],
   "source": [
    "def Pr(Temp,P):\n",
    "    Pr=PropsSI(\"PRANDTL\", \"P\", P, \"T\",Temp, \"CO2\")\n",
    "    return Pr"
   ]
  },
  {
   "cell_type": "code",
   "execution_count": 11,
   "metadata": {},
   "outputs": [],
   "source": [
    "#The following part is heat transfer through well of downward flow."
   ]
  },
  {
   "cell_type": "code",
   "execution_count": 12,
   "metadata": {},
   "outputs": [],
   "source": [
    "#equilvalent h derived from Nussel number\n",
    "#variable 'hconcrete' is the thermal conductivity of concrete \n",
    "def hdown(T,L):\n",
    "    P=Pdown(L)\n",
    "    hconcrete=0.5\n",
    "    V=dotm/(Area*rho(T,P))\n",
    "    Re=V*d/kv(T,P)\n",
    "    if Re>4:\n",
    "        Nu=0.911*Re**0.385*Pr(T,P)**(1/3)\n",
    "    else:\n",
    "        Nu=0.989*Re**0.330*Pr(T,P)**(1/3)\n",
    "    h=Nu*k(T,P)/d\n",
    "    h1=1/(1/h+0.04/hconcrete)\n",
    "    return h1"
   ]
  },
  {
   "cell_type": "code",
   "execution_count": 13,
   "metadata": {},
   "outputs": [],
   "source": [
    "def heattransfer(L, T):\n",
    "    \"\"\"\n",
    "    dotm*Cp*dTm=h*(Ts-Tm)*dAs\n",
    "    dAs=pi*d*dL\n",
    "    dTm/dL=h*(Ts-Tm)/(dotm*Cp)\n",
    "    \"\"\"\n",
    "    P=Pdown(L)\n",
    "    dTdL = np.pi*d*hdown(T,L)*(273+15+0.065*L-T)/dotm/Cv(T,P)\n",
    "    return dTdL"
   ]
  },
  {
   "cell_type": "code",
   "execution_count": 14,
   "metadata": {},
   "outputs": [
    {
     "name": "stdout",
     "output_type": "stream",
     "text": [
      "68.07890658950942\n"
     ]
    }
   ],
   "source": [
    "T0=np.array([38+273])\n",
    "L0=(223-15)/0.065\n",
    "sol = integ.solve_ivp(lambda L, T: heattransfer(L, T), (0, 3200), T0,vectorized=True, atol=1e-12, rtol=1e-12)\n",
    "#Temp from the last iteration is the Temp @ 3200m.\n",
    "T1=sol.y[0,-1]\n",
    "print(T1-273)"
   ]
  },
  {
   "cell_type": "code",
   "execution_count": 15,
   "metadata": {},
   "outputs": [],
   "source": [
    "# The following part is heat transfer "
   ]
  },
  {
   "cell_type": "code",
   "execution_count": 16,
   "metadata": {},
   "outputs": [
    {
     "name": "stdout",
     "output_type": "stream",
     "text": [
      "178.3680440150456\n"
     ]
    }
   ],
   "source": [
    "#The equation from PPT\n",
    "dotm=dotm\n",
    "P=(20/np.pi)**(1/2)*2*np.pi #parimeter\n",
    "h2=15 #heat transfer coefficient\n",
    "Cp2=1900 #Specific heat\n",
    "length=70 #formation length(check this because it's 112m in PPT)\n",
    "SurfTemp=223+273 #surface Temp\n",
    "InletTemp=T1 # Output Temp from the downward flow\n",
    "T2=SurfTemp-(SurfTemp-InletTemp)*np.exp(-P*length*h2/(dotm*Cp2))\n",
    "print(T2-273)"
   ]
  },
  {
   "cell_type": "code",
   "execution_count": 17,
   "metadata": {},
   "outputs": [],
   "source": [
    "# The following part is heat transfer through of upward flow"
   ]
  },
  {
   "cell_type": "code",
   "execution_count": 18,
   "metadata": {},
   "outputs": [],
   "source": [
    "def hup(T,L):\n",
    "    P=Pup(L)\n",
    "    hconcrete=0.5\n",
    "    V=dotm/(Area*rho(T,P))\n",
    "    Re=V*d/kv(T,P)\n",
    "    if Re>4:\n",
    "        Nu=0.911*Re**0.385*Pr(T,P)**(1/3)\n",
    "    else:\n",
    "        Nu=0.989*Re**0.330*Pr(T,P)**(1/3)\n",
    "    h=Nu*k(T,P)/d\n",
    "    h1=1/(1/h+0.04/hconcrete)\n",
    "    return h1"
   ]
  },
  {
   "cell_type": "code",
   "execution_count": 19,
   "metadata": {},
   "outputs": [],
   "source": [
    "def heattransfer1(L, T):\n",
    "    \"\"\"\n",
    "    Similar approach with the downward flow. The difference is now the ambient Temp decrease linearly wrt pipe length.\n",
    "    \"\"\"\n",
    "    dTdL = np.pi*d*hup(T,L)*(273+223-0.065*L-T)/dotm/Cv(T,P)\n",
    "    return dTdL"
   ]
  },
  {
   "cell_type": "code",
   "execution_count": 20,
   "metadata": {},
   "outputs": [
    {
     "name": "stdout",
     "output_type": "stream",
     "text": [
      "136.6188851896278\n"
     ]
    }
   ],
   "source": [
    "#Use Temp out of the saline formation as initial condation\n",
    "T2=np.array([T2])\n",
    "L0=(223-15)/0.065\n",
    "sol1 = integ.solve_ivp(lambda L, T: heattransfer1(L, T), (0, 3200), T2,vectorized=True, atol=1e-12, rtol=1e-12)\n",
    "T3=sol1.y[0,-1]\n",
    "print(T3-273)"
   ]
  },
  {
   "cell_type": "code",
   "execution_count": null,
   "metadata": {},
   "outputs": [],
   "source": []
  }
 ],
 "metadata": {
  "kernelspec": {
   "display_name": "Python 3",
   "language": "python",
   "name": "python3"
  },
  "language_info": {
   "codemirror_mode": {
    "name": "ipython",
    "version": 3
   },
   "file_extension": ".py",
   "mimetype": "text/x-python",
   "name": "python",
   "nbconvert_exporter": "python",
   "pygments_lexer": "ipython3",
   "version": "3.8.5"
  }
 },
 "nbformat": 4,
 "nbformat_minor": 4
}
